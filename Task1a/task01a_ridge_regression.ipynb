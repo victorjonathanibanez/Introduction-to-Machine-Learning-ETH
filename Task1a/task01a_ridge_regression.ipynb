{
 "cells": [
  {
   "cell_type": "code",
   "execution_count": 11,
   "metadata": {},
   "outputs": [],
   "source": [
    "import os\n",
    "import numpy as np\n",
    "import pandas as pd\n",
    "from sklearn import linear_model\n",
    "from sklearn.model_selection import GridSearchCV"
   ]
  },
  {
   "cell_type": "code",
   "execution_count": 12,
   "metadata": {},
   "outputs": [],
   "source": [
    "data = pd.read_csv('./train.csv')\n",
    "y = data['y']\n",
    "X = data.iloc[:, 1:]"
   ]
  },
  {
   "cell_type": "markdown",
   "metadata": {},
   "source": [
    "### Straight forward approach"
   ]
  },
  {
   "cell_type": "code",
   "execution_count": 13,
   "metadata": {},
   "outputs": [
    {
     "data": {
      "text/plain": [
       "GridSearchCV(cv=10, estimator=Ridge(),\n",
       "             param_grid={'alpha': [0.1, 1, 10, 100, 200]},\n",
       "             scoring='neg_root_mean_squared_error')"
      ]
     },
     "execution_count": 13,
     "metadata": {},
     "output_type": "execute_result"
    }
   ],
   "source": [
    "ridge = linear_model.Ridge()\n",
    "param = {'alpha': [0.1, 1, 10, 100, 200]}\n",
    "reg = GridSearchCV(estimator=ridge, cv=10, scoring='neg_root_mean_squared_error', param_grid=param)\n",
    "reg.fit(X, y)"
   ]
  },
  {
   "cell_type": "code",
   "execution_count": 14,
   "metadata": {},
   "outputs": [
    {
     "data": {
      "text/plain": [
       "['mean_fit_time',\n",
       " 'mean_score_time',\n",
       " 'mean_test_score',\n",
       " 'param_alpha',\n",
       " 'params',\n",
       " 'rank_test_score',\n",
       " 'split0_test_score',\n",
       " 'split1_test_score',\n",
       " 'split2_test_score',\n",
       " 'split3_test_score',\n",
       " 'split4_test_score',\n",
       " 'split5_test_score',\n",
       " 'split6_test_score',\n",
       " 'split7_test_score',\n",
       " 'split8_test_score',\n",
       " 'split9_test_score',\n",
       " 'std_fit_time',\n",
       " 'std_score_time',\n",
       " 'std_test_score']"
      ]
     },
     "execution_count": 14,
     "metadata": {},
     "output_type": "execute_result"
    }
   ],
   "source": [
    "sorted(reg.cv_results_.keys())"
   ]
  },
  {
   "cell_type": "code",
   "execution_count": 15,
   "metadata": {},
   "outputs": [
    {
     "name": "stdout",
     "output_type": "stream",
     "text": [
      "5.501809 (+/-2.5425)\n",
      "5.499839 (+/-2.6589)\n",
      "5.483631 (+/-2.8876)\n",
      "5.636642 (+/-3.3998)\n",
      "5.721234 (+/-3.5577)\n",
      "\n",
      "5.568631 (+/-0.0942)\n"
     ]
    }
   ],
   "source": [
    "scores = -1 * reg.cv_results_['mean_test_score']\n",
    "stds = reg.cv_results_['std_test_score']\n",
    "for mean, std in zip(scores, stds):\n",
    "    print('%0.6f (+/-%0.04f)' % (mean, std * 2))\n",
    "print('')\n",
    "print('%0.6f (+/-%0.04f)' % (np.mean(scores), np.std(scores)))"
   ]
  },
  {
   "cell_type": "code",
   "execution_count": 16,
   "metadata": {},
   "outputs": [],
   "source": [
    "result = pd.DataFrame({'rmse': scores})\n",
    "filename = 'submission01.csv'\n",
    "result.to_csv(os.path.join('.', filename), index=False, header=False)"
   ]
  },
  {
   "cell_type": "markdown",
   "metadata": {},
   "source": [
    "### Stratified kfolds"
   ]
  },
  {
   "cell_type": "code",
   "execution_count": 17,
   "metadata": {},
   "outputs": [],
   "source": [
    "from sklearn.model_selection import StratifiedKFold"
   ]
  },
  {
   "cell_type": "code",
   "execution_count": 18,
   "metadata": {},
   "outputs": [],
   "source": [
    "y_class = pd.qcut(y, q=10, labels=False)\n",
    "skf = StratifiedKFold(n_splits=10)\n",
    "kf = skf.split(X, y_class)"
   ]
  },
  {
   "cell_type": "code",
   "execution_count": 19,
   "metadata": {},
   "outputs": [
    {
     "data": {
      "text/plain": [
       "GridSearchCV(cv=<generator object _BaseKFold.split at 0x7f9085875970>,\n",
       "             estimator=Ridge(), param_grid={'alpha': [0.1, 1, 10, 100, 200]},\n",
       "             scoring='neg_root_mean_squared_error')"
      ]
     },
     "execution_count": 19,
     "metadata": {},
     "output_type": "execute_result"
    }
   ],
   "source": [
    "reg_strat = GridSearchCV(estimator=ridge, cv=kf, scoring='neg_root_mean_squared_error', param_grid=param)\n",
    "reg_strat.fit(X, y)"
   ]
  },
  {
   "cell_type": "code",
   "execution_count": 20,
   "metadata": {},
   "outputs": [
    {
     "name": "stdout",
     "output_type": "stream",
     "text": [
      "5.395367 (+/-2.8389)\n",
      "5.391044 (+/-2.9443)\n",
      "5.388171 (+/-3.0129)\n",
      "5.573697 (+/-3.1907)\n",
      "5.658800 (+/-3.3142)\n",
      "\n",
      "5.481416 (+/-0.1134)\n"
     ]
    }
   ],
   "source": [
    "scores_strat = -1 * reg_strat.cv_results_['mean_test_score']\n",
    "stds_strat = reg_strat.cv_results_['std_test_score']\n",
    "for mean, std in zip(scores_strat, stds_strat):\n",
    "    print('%0.6f (+/-%0.04f)' % (mean, std * 2))\n",
    "print('')\n",
    "print('%0.6f (+/-%0.04f)' % (np.mean(scores_strat), np.std(scores_strat)))"
   ]
  },
  {
   "cell_type": "code",
   "execution_count": 21,
   "metadata": {},
   "outputs": [],
   "source": [
    "result_strat = pd.DataFrame({'rmse': scores_strat})\n",
    "filename_strat = 'submission_strat_01.csv'\n",
    "result_strat.to_csv(os.path.join('.', filename_strat), index=False, header=False)"
   ]
  },
  {
   "cell_type": "code",
   "execution_count": null,
   "metadata": {},
   "outputs": [],
   "source": []
  }
 ],
 "metadata": {
  "kernelspec": {
   "display_name": "mlintro",
   "language": "python",
   "name": "mlintro"
  },
  "language_info": {
   "codemirror_mode": {
    "name": "ipython",
    "version": 3
   },
   "file_extension": ".py",
   "mimetype": "text/x-python",
   "name": "python",
   "nbconvert_exporter": "python",
   "pygments_lexer": "ipython3",
   "version": "3.9.2"
  }
 },
 "nbformat": 4,
 "nbformat_minor": 4
}
