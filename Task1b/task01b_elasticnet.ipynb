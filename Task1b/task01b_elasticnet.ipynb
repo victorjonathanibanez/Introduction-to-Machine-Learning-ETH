{
 "cells": [
  {
   "cell_type": "code",
   "execution_count": 4,
   "id": "viral-tomato",
   "metadata": {},
   "outputs": [],
   "source": [
    "import os\n",
    "import numpy as np\n",
    "import pandas as pd\n",
    "from sklearn import metrics\n",
    "from sklearn import linear_model\n",
    "from sklearn import model_selection\n",
    "\n",
    "# load data\n",
    "data = pd.read_csv('./train.csv')\n",
    "y = data['y']\n",
    "raw_X = data.iloc[:, 2:]\n",
    "\n",
    "# create the features that are required for the task:\n",
    "quadratic = raw_X**2\n",
    "exponential = np.exp(raw_X)\n",
    "cosine = np.cos(raw_X)\n",
    "constant = pd.Series(np.ones(raw_X.shape[0]))\n",
    "\n",
    "# merge features to dataframe\n",
    "X = pd.concat([raw_X, quadratic, exponential, cosine, constant], axis=1)\n",
    "\n",
    "# rename columns\n",
    "column_names = list()\n",
    "for i in range(1, 22):\n",
    "    column_names.append('x{}'.format(i))\n",
    "X.columns = column_names"
   ]
  },
  {
   "cell_type": "code",
   "execution_count": 52,
   "id": "intermediate-while",
   "metadata": {},
   "outputs": [
    {
     "data": {
      "text/plain": [
       "GridSearchCV(cv=10,\n",
       "             estimator=ElasticNet(fit_intercept=False, max_iter=100000.0,\n",
       "                                  random_state=0),\n",
       "             param_grid={'alpha': array([0.055     , 0.05522222, 0.05544444, 0.05566667, 0.05588889,\n",
       "       0.05611111, 0.05633333, 0.05655556, 0.05677778, 0.057     ]),\n",
       "                         'l1_ratio': array([0.385     , 0.38555556, 0.38611111, 0.38666667, 0.38722222,\n",
       "       0.38777778, 0.38833333, 0.38888889, 0.38944444, 0.39      ])},\n",
       "             scoring=make_scorer(mean_squared_error, greater_is_better=False, squared=False))"
      ]
     },
     "execution_count": 52,
     "metadata": {},
     "output_type": "execute_result"
    }
   ],
   "source": [
    "# gridsearch for alpha and l1_ratio with elastic net and 10-fold cross validation\n",
    "regr = linear_model.ElasticNet(random_state=0, max_iter=1e5,\n",
    "                              fit_intercept=False)\n",
    "rmse = metrics.make_scorer(metrics.mean_squared_error, squared=False,\n",
    "                          greater_is_better=False)\n",
    "param = {'alpha': np.linspace(0.055, 0.057, 10),\n",
    "        'l1_ratio': np.linspace(0.385, 0.39, 10)}\n",
    "gs = model_selection.GridSearchCV(estimator=regr, cv=10, scoring=rmse,\n",
    "                                  param_grid=param)\n",
    "gs.fit(X, y)"
   ]
  },
  {
   "cell_type": "code",
   "execution_count": 54,
   "id": "accurate-western",
   "metadata": {},
   "outputs": [
    {
     "name": "stdout",
     "output_type": "stream",
     "text": [
      "Best RMSE: -1.951069: {'alpha': 0.05655555555555556, 'l1_ratio': 0.3877777777777778})\n"
     ]
    }
   ],
   "source": [
    "# evaluate gridsearch\n",
    "print('Best RMSE: %0.6f: %s)' % (gs.best_score_, gs.best_params_))"
   ]
  },
  {
   "cell_type": "code",
   "execution_count": 55,
   "id": "passing-yukon",
   "metadata": {},
   "outputs": [
    {
     "data": {
      "text/plain": [
       "array([ 0.        , -0.        , -0.        ,  0.        ,  0.        ,\n",
       "       -0.        ,  0.        ,  0.        , -0.        ,  0.        ,\n",
       "       -0.5260155 , -0.75233812, -0.83954689, -0.25700654, -0.50748563,\n",
       "       -0.56977302, -0.62992376, -0.64010492, -0.53087588, -0.62468602,\n",
       "       -0.6240199 ])"
      ]
     },
     "execution_count": 55,
     "metadata": {},
     "output_type": "execute_result"
    }
   ],
   "source": [
    "# fit with best estimator\n",
    "final_regr = gs.best_estimator_.fit(X, y)\n",
    "\n",
    "# get weights\n",
    "weights = final_regr.coef_\n",
    "weights"
   ]
  },
  {
   "cell_type": "code",
   "execution_count": 56,
   "id": "pacific-muslim",
   "metadata": {},
   "outputs": [],
   "source": [
    "# create submission file\n",
    "result = pd.DataFrame({'weights': weights})\n",
    "filename = 'submission_elasticnet.csv'\n",
    "result.to_csv(os.path.join('.', filename), index=False, header=False)"
   ]
  },
  {
   "cell_type": "code",
   "execution_count": null,
   "id": "retired-hopkins",
   "metadata": {},
   "outputs": [],
   "source": []
  }
 ],
 "metadata": {
  "kernelspec": {
   "display_name": "mlintro",
   "language": "python",
   "name": "mlintro"
  },
  "language_info": {
   "codemirror_mode": {
    "name": "ipython",
    "version": 3
   },
   "file_extension": ".py",
   "mimetype": "text/x-python",
   "name": "python",
   "nbconvert_exporter": "python",
   "pygments_lexer": "ipython3",
   "version": "3.9.2"
  }
 },
 "nbformat": 4,
 "nbformat_minor": 5
}
