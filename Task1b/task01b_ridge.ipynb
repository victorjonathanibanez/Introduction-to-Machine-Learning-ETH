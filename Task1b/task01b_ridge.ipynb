{
 "cells": [
  {
   "cell_type": "code",
   "execution_count": 22,
   "id": "fossil-robinson",
   "metadata": {},
   "outputs": [],
   "source": [
    "import os\n",
    "import numpy as np\n",
    "import pandas as pd\n",
    "from sklearn import metrics\n",
    "from sklearn import linear_model\n",
    "from sklearn import model_selection"
   ]
  },
  {
   "cell_type": "code",
   "execution_count": 23,
   "id": "russian-pepper",
   "metadata": {},
   "outputs": [
    {
     "data": {
      "text/plain": [
       "0     -6.822679\n",
       "1     -6.326290\n",
       "2     -9.302728\n",
       "3     -7.371893\n",
       "4     -6.027647\n",
       "         ...   \n",
       "695   -6.147394\n",
       "696   -6.214899\n",
       "697   -6.841341\n",
       "698   -6.523371\n",
       "699   -5.676683\n",
       "Name: y, Length: 700, dtype: float64"
      ]
     },
     "execution_count": 23,
     "metadata": {},
     "output_type": "execute_result"
    }
   ],
   "source": [
    "# load data\n",
    "data = pd.read_csv('./train.csv', float_precision='high')\n",
    "y = data['y']\n",
    "raw_X = data.iloc[:, 2:]\n",
    "\n",
    "# create the features that are required for the task:\n",
    "quadratic = raw_X**2\n",
    "exponential = np.exp(raw_X)\n",
    "cosine = np.cos(raw_X)\n",
    "constant = pd.Series(np.ones(raw_X.shape[0]))\n",
    "\n",
    "# merge features to dataframe\n",
    "X = pd.concat([raw_X, quadratic, exponential, cosine, constant], axis=1)\n",
    "\n",
    "# rename columns\n",
    "column_names = list()\n",
    "for i in range(1, 22):\n",
    "    column_names.append('x{}'.format(i))\n",
    "X.columns = column_names"
   ]
  },
  {
   "cell_type": "code",
   "execution_count": 9,
   "id": "actual-african",
   "metadata": {},
   "outputs": [
    {
     "data": {
      "text/plain": [
       "GridSearchCV(cv=20, estimator=Ridge(),\n",
       "             param_grid={'alpha': array([5.34      , 5.34022222, 5.34044444, 5.34066667, 5.34088889,\n",
       "       5.34111111, 5.34133333, 5.34155556, 5.34177778, 5.342     ])},\n",
       "             scoring=make_scorer(mean_squared_error, greater_is_better=False, squared=False))"
      ]
     },
     "execution_count": 9,
     "metadata": {},
     "output_type": "execute_result"
    }
   ],
   "source": [
    "# search for best alpha with 10-fold cross validation\n",
    "regr = linear_model.Ridge()\n",
    "rmse = metrics.make_scorer(metrics.mean_squared_error, squared=False,\n",
    "                          greater_is_better=False, fit_intercept=False)\n",
    "param = {'alpha': np.linspace(5.34, 5.342, 10)}\n",
    "gs = model_selection.GridSearchCV(estimator=regr, cv=20, scoring=rmse,\n",
    "                                  param_grid=param)\n",
    "gs.fit(X, y)"
   ]
  },
  {
   "cell_type": "code",
   "execution_count": 24,
   "id": "tamil-shape",
   "metadata": {},
   "outputs": [
    {
     "name": "stdout",
     "output_type": "stream",
     "text": [
      "-1.949639 (+/-0.4556): {'alpha': 5.34})\n",
      "-1.949639 (+/-0.4556): {'alpha': 5.340222222222222})\n",
      "-1.949639 (+/-0.4556): {'alpha': 5.3404444444444445})\n",
      "-1.949639 (+/-0.4556): {'alpha': 5.3406666666666665})\n",
      "-1.949639 (+/-0.4556): {'alpha': 5.340888888888888})\n",
      "-1.949639 (+/-0.4556): {'alpha': 5.341111111111111})\n",
      "-1.949639 (+/-0.4556): {'alpha': 5.341333333333333})\n",
      "-1.949639 (+/-0.4556): {'alpha': 5.341555555555555})\n",
      "-1.949639 (+/-0.4556): {'alpha': 5.341777777777778})\n",
      "-1.949639 (+/-0.4556): {'alpha': 5.342})\n",
      "\n",
      "-1.949639: {'alpha': 5.34})\n"
     ]
    }
   ],
   "source": [
    "# evaluate gridsearch\n",
    "scores = gs.cv_results_['mean_test_score']\n",
    "stds = gs.cv_results_['std_test_score']\n",
    "parameters = gs.cv_results_['params']\n",
    "for mean, std, par in zip(scores, stds, parameters):\n",
    "    print('%0.6f (+/-%0.04f): %s)' % (mean, std * 2, par))\n",
    "print('')\n",
    "print('%0.6f: %s)' % (gs.best_score_, gs.best_params_))"
   ]
  },
  {
   "cell_type": "code",
   "execution_count": 25,
   "id": "future-madison",
   "metadata": {},
   "outputs": [
    {
     "data": {
      "text/plain": [
       "array([ 0.18774177, -0.44411429, -0.64918903,  0.22956104,  0.09340925,\n",
       "       -0.27724755,  0.15670077,  0.13247267, -0.14640312,  0.07723636,\n",
       "       -0.49686822, -0.90797117, -1.12983997, -0.38501133, -0.41647907,\n",
       "       -0.40238602, -0.6180734 , -0.60591403, -0.46864331, -0.57730255,\n",
       "       -0.54014733])"
      ]
     },
     "execution_count": 25,
     "metadata": {},
     "output_type": "execute_result"
    }
   ],
   "source": [
    "# fit with best found parameter\n",
    "final_regr = linear_model.Ridge(alpha=gs.best_params_['alpha'],\n",
    "                               fit_intercept=False)\n",
    "final_regr.fit(X, y)\n",
    "\n",
    "# get weights\n",
    "weights = final_regr.coef_"
   ]
  },
  {
   "cell_type": "code",
   "execution_count": 24,
   "id": "british-interim",
   "metadata": {},
   "outputs": [],
   "source": [
    "# create submission file\n",
    "result = pd.DataFrame({'weights': weights})\n",
    "filename = 'submission_ridge_tuned.csv'\n",
    "result.to_csv(os.path.join('.', filename), index=False, header=False)"
   ]
  },
  {
   "cell_type": "code",
   "execution_count": null,
   "id": "broken-cosmetic",
   "metadata": {},
   "outputs": [],
   "source": []
  },
  {
   "cell_type": "code",
   "execution_count": null,
   "id": "retained-mason",
   "metadata": {},
   "outputs": [],
   "source": []
  },
  {
   "cell_type": "code",
   "execution_count": null,
   "id": "homeless-crack",
   "metadata": {},
   "outputs": [],
   "source": []
  },
  {
   "cell_type": "code",
   "execution_count": null,
   "id": "possible-receipt",
   "metadata": {},
   "outputs": [],
   "source": []
  },
  {
   "cell_type": "code",
   "execution_count": 19,
   "id": "expanded-cheat",
   "metadata": {},
   "outputs": [
    {
     "name": "stdout",
     "output_type": "stream",
     "text": [
      "1.6375180184495604 <--\n",
      "1.8517809733189285\n",
      "2.1663743995094067\n",
      "1.8299631029490628\n",
      "1.6625165615480793\n",
      "2.142432424910959\n",
      "2.758428367273095\n",
      "2.101877806707221\n",
      "1.798777469560628\n",
      "1.808100255600022\n",
      "2.230172021340251\n",
      "1.648423154629421\n",
      "1.918671892757678\n",
      "2.2303658283943046\n",
      "2.0229646894587154\n",
      "1.6024325126326844 <--\n",
      "2.0380985839759407\n",
      "1.9545090445779354\n",
      "1.9311432927260963\n",
      "1.5885387944901856 <--\n",
      "[-0.10529522 -0.70196259 -0.98611871 -0.08744262 -0.0110359  -0.25611092\n",
      "  0.24979152  0.21424441  0.01995888  0.09584798 -0.24056155 -0.58413623\n",
      " -0.88898609 -0.08910956  0.02725983  0.12708403 -0.12406523 -0.10644776\n",
      " -0.0104891  -0.04627945  0.        ]\n"
     ]
    }
   ],
   "source": [
    "# cross validation with best found parameter and select best split\n",
    "model = linear_model.Ridge(alpha=gs.best_params_['alpha'])\n",
    "kf = model_selection.KFold(n_splits=20, shuffle=True, random_state=False)\n",
    "low_loss = 10\n",
    "for train_index, test_index in kf.split(X):\n",
    "    X_train, X_test = X.iloc[train_index], X.iloc[test_index]\n",
    "    y_train, y_test = y.iloc[train_index], y.iloc[test_index]\n",
    "    model.fit(X_train, y_train)\n",
    "    y_pred = model.predict(X_test)\n",
    "    loss = metrics.mean_squared_error(y_test, y_pred, squared=False)\n",
    "    if loss < low_loss:\n",
    "        weights = model.coef_\n",
    "        low_loss = loss\n",
    "        print(loss, '<--')\n",
    "        continue\n",
    "    print(loss)\n",
    "print(weights)"
   ]
  }
 ],
 "metadata": {
  "kernelspec": {
   "display_name": "mlintro",
   "language": "python",
   "name": "mlintro"
  },
  "language_info": {
   "codemirror_mode": {
    "name": "ipython",
    "version": 3
   },
   "file_extension": ".py",
   "mimetype": "text/x-python",
   "name": "python",
   "nbconvert_exporter": "python",
   "pygments_lexer": "ipython3",
   "version": "3.9.2"
  }
 },
 "nbformat": 4,
 "nbformat_minor": 5
}
