{
 "cells": [
  {
   "cell_type": "code",
   "execution_count": 1,
   "id": "infectious-probability",
   "metadata": {},
   "outputs": [],
   "source": [
    "import pandas as pd\n",
    "import numpy as np\n",
    "\n",
    "from sklearn import metrics\n",
    "from sklearn.model_selection import cross_val_score\n",
    "from sklearn.pipeline import make_pipeline\n",
    "from sklearn.impute import SimpleImputer\n",
    "from sklearn.preprocessing import StandardScaler\n",
    "from sklearn.experimental import enable_hist_gradient_boosting\n",
    "from sklearn.ensemble import HistGradientBoostingClassifier\n",
    "from sklearn.ensemble import HistGradientBoostingRegressor"
   ]
  },
  {
   "cell_type": "code",
   "execution_count": 2,
   "id": "modern-walter",
   "metadata": {},
   "outputs": [],
   "source": [
    "# load data\n",
    "X_train_raw = pd.read_csv('./train_features.csv')\n",
    "y_train = pd.read_csv('./train_labels.csv')\n",
    "X_test_raw = pd.read_csv('./test_features.csv')"
   ]
  },
  {
   "cell_type": "code",
   "execution_count": 3,
   "id": "institutional-force",
   "metadata": {},
   "outputs": [
    {
     "name": "stdout",
     "output_type": "stream",
     "text": [
      "(227940, 37) (18995, 16)\n",
      "(151968, 37)\n",
      "                 pid           Time            Age        EtCO2           PTT  \\\n",
      "count  227940.000000  227940.000000  227940.000000  9783.000000  10299.000000   \n",
      "mean    15788.831219       7.014399      62.073809    32.883114     40.091310   \n",
      "std      9151.896286       4.716103      16.451854     7.802065     26.034961   \n",
      "min         1.000000       1.000000      15.000000    10.000000     12.500000   \n",
      "25%      7879.000000       4.000000      52.000000    28.500000     27.800000   \n",
      "50%     15726.000000       7.000000      64.000000    33.000000     32.200000   \n",
      "75%     23725.000000      10.000000      74.000000    38.000000     40.600000   \n",
      "max     31658.000000     315.000000     100.000000   100.000000    250.000000   \n",
      "\n",
      "                BUN       Lactate          Temp           Hgb         HCO3  \\\n",
      "count  20105.000000  10756.000000  81115.000000  22295.000000  12559.00000   \n",
      "mean      23.192664      2.859716     36.852136     10.628208     23.48810   \n",
      "std       20.024289      2.428368      0.875152      2.074859      4.40378   \n",
      "min        1.000000      0.200000     21.000000      3.300000      0.00000   \n",
      "25%       12.000000      1.400000     36.000000      9.200000     21.00000   \n",
      "50%       17.000000      2.100000     37.000000     10.500000     23.90000   \n",
      "75%       27.000000      3.400000     37.000000     12.000000     26.00000   \n",
      "max      268.000000     31.000000     42.000000     23.800000     50.00000   \n",
      "\n",
      "       ...  Alkalinephos           SpO2  Bilirubin_direct      Chloride  \\\n",
      "count  ...   5708.000000  195192.000000        719.000000  13917.000000   \n",
      "mean   ...     97.796163      97.663449          1.390723    106.260185   \n",
      "std    ...    122.773379       2.786186          2.792722      5.916082   \n",
      "min    ...     12.000000      20.000000          0.010000     66.000000   \n",
      "25%    ...     53.000000      96.000000          0.100000    103.000000   \n",
      "50%    ...     72.000000      98.000000          0.300000    107.000000   \n",
      "75%    ...    104.000000     100.000000          1.210000    110.000000   \n",
      "max    ...   3833.000000     100.000000         21.200000    141.000000   \n",
      "\n",
      "                Hct      Heartrate  Bilirubin_total    TroponinI  \\\n",
      "count  27297.000000  200128.000000      5326.000000  3776.000000   \n",
      "mean      31.283090      84.522371         1.640941     7.269240   \n",
      "std        5.770425      17.643437         3.244145    25.172442   \n",
      "min        9.400000      23.000000         0.100000     0.010000   \n",
      "25%       27.300000      72.000000         0.500000     0.030000   \n",
      "50%       30.900000      83.000000         0.800000     0.150000   \n",
      "75%       35.000000      95.000000         1.400000     2.050000   \n",
      "max       63.400000     191.000000        46.500000   440.000000   \n",
      "\n",
      "                ABPs            pH  \n",
      "count  191650.000000  25046.000000  \n",
      "mean      122.369877      7.367231  \n",
      "std        23.273834      0.074384  \n",
      "min        21.000000      6.820000  \n",
      "25%       105.000000      7.330000  \n",
      "50%       119.000000      7.370000  \n",
      "75%       137.000000      7.410000  \n",
      "max       287.000000      7.780000  \n",
      "\n",
      "[8 rows x 37 columns]\n"
     ]
    }
   ],
   "source": [
    "print(X_train_raw.shape, y_train.shape)\n",
    "print(X_test_raw.shape)\n",
    "print(X_train_raw.describe())"
   ]
  },
  {
   "cell_type": "code",
   "execution_count": 4,
   "id": "centered-practice",
   "metadata": {},
   "outputs": [],
   "source": [
    "# extract statistics from patients: median, mean, var, std, min, max\n",
    "def describe_patients(df):\n",
    "    s = 12\n",
    "    new_df = []\n",
    "    n = [np.nanmedian, np.nanmean, np.nanvar, np.nanstd, np.nanmin, np.nanmax]\n",
    "    for i in range(int(len(df)/s)):\n",
    "        p_data = df.iloc[i*s:(i+1)*s, 2:]\n",
    "        features = np.zeros((len(n), df.shape[1]-2))\n",
    "        for j in range(len(n)):\n",
    "            features[j] = n[j](p_data, axis=0)\n",
    "        new_df.append(features.ravel())\n",
    "    \n",
    "    new_df = np.array(new_df)\n",
    "    return new_df"
   ]
  },
  {
   "cell_type": "code",
   "execution_count": 5,
   "id": "impossible-solution",
   "metadata": {},
   "outputs": [
    {
     "name": "stderr",
     "output_type": "stream",
     "text": [
      "/Users/lau/miniconda3/envs/mlintro/lib/python3.9/site-packages/numpy/lib/nanfunctions.py:1113: RuntimeWarning: All-NaN slice encountered\n",
      "  r, k = function_base._ureduce(a, func=_nanmedian, axis=axis, out=out,\n",
      "<ipython-input-4-fedb60d2b4bb>:10: RuntimeWarning: Mean of empty slice\n",
      "  features[j] = n[j](p_data, axis=0)\n",
      "<ipython-input-4-fedb60d2b4bb>:10: RuntimeWarning: Degrees of freedom <= 0 for slice.\n",
      "  features[j] = n[j](p_data, axis=0)\n",
      "/Users/lau/miniconda3/envs/mlintro/lib/python3.9/site-packages/numpy/lib/nanfunctions.py:1664: RuntimeWarning: Degrees of freedom <= 0 for slice.\n",
      "  var = nanvar(a, axis=axis, dtype=dtype, out=out, ddof=ddof,\n",
      "<ipython-input-4-fedb60d2b4bb>:10: RuntimeWarning: All-NaN axis encountered\n",
      "  features[j] = n[j](p_data, axis=0)\n"
     ]
    }
   ],
   "source": [
    "X_train = describe_patients(X_train_raw)\n",
    "X_test = describe_patients(X_test_raw)"
   ]
  },
  {
   "cell_type": "code",
   "execution_count": 6,
   "id": "monthly-commission",
   "metadata": {},
   "outputs": [
    {
     "name": "stdout",
     "output_type": "stream",
     "text": [
      "(18995, 210) (18995, 16)\n",
      "(12664, 210)\n"
     ]
    }
   ],
   "source": [
    "print(X_train.shape, y_train.shape)\n",
    "print(X_test.shape)"
   ]
  },
  {
   "cell_type": "code",
   "execution_count": 7,
   "id": "southern-policy",
   "metadata": {},
   "outputs": [],
   "source": [
    "# subtask 1\n",
    "sub1_labels = y_train.columns[1:11]\n",
    "y_sub1 = y_train[sub1_labels]"
   ]
  },
  {
   "cell_type": "code",
   "execution_count": 8,
   "id": "vulnerable-supply",
   "metadata": {},
   "outputs": [
    {
     "name": "stdout",
     "output_type": "stream",
     "text": [
      "0.928249 (+/-0.0070) - LABEL_BaseExcess ROC AUC cross validation\n",
      "0.802415 (+/-0.0234) - LABEL_Fibrinogen ROC AUC cross validation\n",
      "0.742763 (+/-0.0072) - LABEL_AST ROC AUC cross validation\n",
      "0.743751 (+/-0.0075) - LABEL_Alkalinephos ROC AUC cross validation\n",
      "0.743376 (+/-0.0137) - LABEL_Bilirubin_total ROC AUC cross validation\n",
      "0.803267 (+/-0.0145) - LABEL_Lactate ROC AUC cross validation\n",
      "0.892865 (+/-0.0074) - LABEL_TroponinI ROC AUC cross validation\n",
      "0.829418 (+/-0.0138) - LABEL_SaO2 ROC AUC cross validation\n",
      "0.760311 (+/-0.0418) - LABEL_Bilirubin_direct ROC AUC cross validation\n",
      "0.933957 (+/-0.0106) - LABEL_EtCO2 ROC AUC cross validation\n"
     ]
    }
   ],
   "source": [
    "# cross validation subtask 1\n",
    "for i in range(len(sub1_labels)):\n",
    "    y = y_sub1.iloc[:, i]\n",
    "    pipeline = make_pipeline(SimpleImputer(strategy='median'),\n",
    "                             StandardScaler(),\n",
    "                             HistGradientBoostingClassifier())\n",
    "    scores = cross_val_score(pipeline, X_train, y, cv=5, scoring='roc_auc')\n",
    "    print('{:.6f} (+/-{:.04f}) - {} ROC AUC cross validation'.format(scores.mean(),\n",
    "                                                                     scores.std()*2, sub1_labels[i]))"
   ]
  },
  {
   "cell_type": "code",
   "execution_count": 9,
   "id": "middle-significance",
   "metadata": {},
   "outputs": [
    {
     "name": "stdout",
     "output_type": "stream",
     "text": [
      "0.967764 - LABEL_BaseExcess ROC AUC\n",
      "0.957451 - LABEL_Fibrinogen ROC AUC\n",
      "0.859260 - LABEL_AST ROC AUC\n",
      "0.860479 - LABEL_Alkalinephos ROC AUC\n",
      "0.864130 - LABEL_Bilirubin_total ROC AUC\n",
      "0.890365 - LABEL_Lactate ROC AUC\n",
      "0.978385 - LABEL_TroponinI ROC AUC\n",
      "0.925872 - LABEL_SaO2 ROC AUC\n",
      "0.952244 - LABEL_Bilirubin_direct ROC AUC\n",
      "0.989054 - LABEL_EtCO2 ROC AUC\n"
     ]
    }
   ],
   "source": [
    "# full model & prediction subtask 1\n",
    "all_predictions = pd.DataFrame({'pid': X_test_raw.iloc[0::12, 0].values})\n",
    "for i in range(len(sub1_labels)):\n",
    "    y = y_sub1.iloc[:, i]\n",
    "    pipeline = pipeline.fit(X_train, y)\n",
    "    y_predict = pipeline.predict_proba(X_train)[:, 1]\n",
    "    predictions = pipeline.predict_proba(X_test)[:, 1]\n",
    "    all_predictions[sub1_labels[i]] = predictions\n",
    "    score = metrics.roc_auc_score(y, y_predict)\n",
    "    print('{:.6f} - {} ROC AUC'.format(score, sub1_labels[i]))"
   ]
  },
  {
   "cell_type": "code",
   "execution_count": 10,
   "id": "pending-bench",
   "metadata": {},
   "outputs": [],
   "source": [
    "# subtask 2\n",
    "sub2_label = y_train.columns[11]\n",
    "y_sub2 = y_train[sub2_label]"
   ]
  },
  {
   "cell_type": "code",
   "execution_count": 11,
   "id": "weird-annex",
   "metadata": {},
   "outputs": [
    {
     "name": "stdout",
     "output_type": "stream",
     "text": [
      "0.708812 (+/-0.0536) - LABEL_Sepsis ROC AUC cross validation\n"
     ]
    }
   ],
   "source": [
    "# cross validation subtask 2\n",
    "pipeline = make_pipeline(SimpleImputer(strategy='median'),\n",
    "                         StandardScaler(),\n",
    "                         HistGradientBoostingClassifier())\n",
    "scores = cross_val_score(pipeline, X_train, y_sub2, cv=5, scoring='roc_auc')\n",
    "print('{:.6f} (+/-{:.04f}) - {} ROC AUC cross validation'.format(scores.mean(),\n",
    "                                                                 scores.std()*2, sub2_label))"
   ]
  },
  {
   "cell_type": "code",
   "execution_count": 12,
   "id": "treated-hobby",
   "metadata": {},
   "outputs": [
    {
     "name": "stdout",
     "output_type": "stream",
     "text": [
      "0.900596 - LABEL_Sepsis ROC AUC\n"
     ]
    }
   ],
   "source": [
    "# full model & prediction subtask 2\n",
    "pipeline = pipeline.fit(X_train, y_sub2)\n",
    "y_predict = pipeline.predict_proba(X_train)[:, 1]\n",
    "predictions = pipeline.predict_proba(X_test)[:, 1]\n",
    "all_predictions[sub2_label] = predictions\n",
    "\n",
    "score = metrics.roc_auc_score(y_sub2, y_predict)\n",
    "print('{:.6f} - {} ROC AUC'.format(score, sub2_label))"
   ]
  },
  {
   "cell_type": "code",
   "execution_count": 13,
   "id": "herbal-interaction",
   "metadata": {},
   "outputs": [],
   "source": [
    "# subtask 3\n",
    "sub3_labels = y_train.columns[12:]\n",
    "y_sub3 = y_train[sub3_labels]"
   ]
  },
  {
   "cell_type": "code",
   "execution_count": 14,
   "id": "becoming-parallel",
   "metadata": {},
   "outputs": [
    {
     "name": "stdout",
     "output_type": "stream",
     "text": [
      "0.412141 (+/-0.0166) - LABEL_RRate R2 cross validation\n",
      "0.619322 (+/-0.0312) - LABEL_ABPm R2 cross validation\n",
      "0.380660 (+/-0.0299) - LABEL_SpO2 R2 cross validation\n",
      "0.633261 (+/-0.0281) - LABEL_Heartrate R2 cross validation\n"
     ]
    }
   ],
   "source": [
    "# cross validation subtask 3\n",
    "for i in range(len(sub3_labels)):\n",
    "    y = y_sub3.iloc[:, i]\n",
    "    pipeline = make_pipeline(SimpleImputer(strategy='median'),\n",
    "                             StandardScaler(),\n",
    "                             HistGradientBoostingRegressor())\n",
    "    scores = cross_val_score(pipeline, X_train, y, cv=5, scoring='r2')\n",
    "    print('{:.6f} (+/-{:.04f}) - {} R2 cross validation'.format(scores.mean(),\n",
    "                                                                scores.std()*2, sub3_labels[i]))"
   ]
  },
  {
   "cell_type": "code",
   "execution_count": 15,
   "id": "eight-gossip",
   "metadata": {},
   "outputs": [
    {
     "name": "stdout",
     "output_type": "stream",
     "text": [
      "0.568123 - LABEL_RRate R2\n",
      "0.725160 - LABEL_ABPm R2\n",
      "0.526574 - LABEL_SpO2 R2\n",
      "0.708299 - LABEL_Heartrate R2\n"
     ]
    }
   ],
   "source": [
    "# full model & prediction subtask 3\n",
    "for i in range(len(sub3_labels)):\n",
    "    y = y_sub3.iloc[:, i]\n",
    "    pipeline = pipeline.fit(X_train, y)\n",
    "    y_predict = pipeline.predict(X_train)\n",
    "    predictions = pipeline.predict(X_test)\n",
    "    all_predictions[sub3_labels[i]] = predictions\n",
    "    score = metrics.r2_score(y, y_predict)\n",
    "    print('{:.6f} - {} R2'.format(score, sub3_labels[i]))"
   ]
  },
  {
   "cell_type": "code",
   "execution_count": 16,
   "id": "valid-testament",
   "metadata": {},
   "outputs": [],
   "source": [
    "# create submission file\n",
    "all_predictions.to_csv('prediction.zip', index=False, float_format='%.3f', compression='zip')"
   ]
  }
 ],
 "metadata": {
  "kernelspec": {
   "display_name": "mlintro",
   "language": "python",
   "name": "mlintro"
  },
  "language_info": {
   "codemirror_mode": {
    "name": "ipython",
    "version": 3
   },
   "file_extension": ".py",
   "mimetype": "text/x-python",
   "name": "python",
   "nbconvert_exporter": "python",
   "pygments_lexer": "ipython3",
   "version": "3.9.2"
  }
 },
 "nbformat": 4,
 "nbformat_minor": 5
}
