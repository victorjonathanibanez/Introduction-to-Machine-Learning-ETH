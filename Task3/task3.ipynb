{
 "cells": [
  {
   "cell_type": "markdown",
   "id": "electric-laptop",
   "metadata": {},
   "source": [
    "# Introduction to Machine Learning 2021 - Task 3"
   ]
  },
  {
   "cell_type": "markdown",
   "id": "conceptual-stuart",
   "metadata": {},
   "source": [
    "Proteins are large molecules. Their blueprints are encoded in the DNA of biological organisms. Each protein consists of many amino acids: for example, our protein of interest consists of a little less than 400 amino acids. Once the protein is created (synthesized), it folds into a 3D structure, which can be seen in Figure 1. The mutations influence what amino acids make up the protein, and hence have an effect on its shape."
   ]
  },
  {
   "cell_type": "markdown",
   "id": "compact-specification",
   "metadata": {},
   "source": [
    "The goal of this task is to classify mutations of a human antibody protein into active (1) and inactive (0) based on the provided mutation information. Under active mutations the protein retains its original function, and inactive mutation cause the protein to lose its function. The mutations differ from each other by 4 amino acids in 4 respective sites. The sites or locations of the mutations are fixed. The amino acids at the 4 mutation sites are given as 4-letter combinations, where each letter denotes the amino acid at the corresponding mutation site. Amino acids at other places are kept the same and are not provided.\n",
    "\n",
    "For example, FCDI corresponds to amino acid F (Phenylanine) being in the first site, amino acid C (Cysteine) being in the second site and so on. The Figure 2 gives translation from symbols to amino acid chemical names for the interested students. The biological and chemical aspects can be abstracted to solve this task."
   ]
  },
  {
   "cell_type": "code",
   "execution_count": null,
   "id": "talented-creator",
   "metadata": {},
   "outputs": [],
   "source": [
    "#!/usr/bin/env python\n",
    "# coding: utf-8\n",
    "\n",
    "import os\n",
    "import numpy as np\n",
    "import pandas as pd\n",
    "from sklearn.pipeline import make_pipeline\n",
    "from sklearn.model_selection import (cross_val_score, KFold, GridSearchCV)\n",
    "from sklearn.experimental import enable_hist_gradient_boosting\n",
    "from sklearn.ensemble import HistGradientBoostingClassifier\n",
    "from sklearn.compose import (make_column_transformer, make_column_selector)\n",
    "from sklearn.preprocessing import (OrdinalEncoder, MinMaxScaler)"
   ]
  },
  {
   "cell_type": "code",
   "execution_count": null,
   "id": "rocky-intelligence",
   "metadata": {},
   "outputs": [],
   "source": [
    "# function to load data and optional features into dataframe\n",
    "def create_dataframe(df, list_of_features, dict_of_aa):\n",
    "    data = []\n",
    "    for i in range(len(df)):\n",
    "        sites = list(df.iloc[i][0])\n",
    "        data.append(sites)\n",
    "\n",
    "    select_features = []\n",
    "    for site in data:\n",
    "        sample_features = []\n",
    "        for aa in site:\n",
    "            for feature in range(len(list_of_features)):\n",
    "                sample_features.append(dict_of_aa[aa][feature])\n",
    "        select_features.append(sample_features)\n",
    "    for i in range(len(data)):\n",
    "        data[i] = data[i] + select_features[i]\n",
    "\n",
    "    new_df = pd.DataFrame(data)\n",
    "    return(new_df)\n",
    "\n",
    "\n",
    "# function to convert object to category dtype\n",
    "def object_to_category(df):\n",
    "    object_mask = (df.dtypes == 'object').to_list()\n",
    "    for i in range(len(object_mask)):\n",
    "        if df[df.columns[i]].dtype == 'object':\n",
    "            df[df.columns[i]] = df[df.columns[i]].astype('category')\n",
    "    return(df)"
   ]
  },
  {
   "cell_type": "code",
   "execution_count": null,
   "id": "structured-percentage",
   "metadata": {},
   "outputs": [],
   "source": [
    "# load data\n",
    "train_data = pd.read_csv('train.csv')\n",
    "test_data = pd.read_csv('test.csv')\n",
    "y_train = train_data.pop('Active')"
   ]
  },
  {
   "cell_type": "code",
   "execution_count": null,
   "id": "scientific-feeling",
   "metadata": {},
   "outputs": [],
   "source": [
    "# amino acid chemical and physical features\n",
    "aa_order = 'ARNDCQEGHILKMFPSTWYV'\n",
    "phys_chem = ['no', 'pos', 'polar', 'neg', 'polar', 'polar', 'neg', 'polar', 'pos', 'no', 'no',\n",
    "        'pos', 'no', 'no', 'no', 'polar', 'polar', 'no', 'polar', 'no']\n",
    "molmass = [15, 100, 58, 59, 47, 72, 73, 1, 81, 57, 57, 72, 75, 91, 42, 31, 45,\n",
    "        130, 107, 43]\n",
    "hydro = [1.8, -4.5, -3.5, -3.5, 2.5, -3.5, -3.5, -0.4, -3.2, 4.5, 3.8, -3.9,\n",
    "        1.9, 2.8, -1.6, -0.8, -0.7, -0.9, -1.3, 4.2]\n",
    "polar = []\n",
    "\n",
    "# include features for training\n",
    "include_features = [hydro]\n",
    "\n",
    "# create dictionary with amino acids as keys for corresponding features\n",
    "aa_dict = {}\n",
    "for i in range(len(aa_order)):\n",
    "    aa_dict[aa_order[i]] = []\n",
    "    for j in range(len(include_features)):\n",
    "        aa_dict[aa_order[i]].append(include_features[j][i])"
   ]
  },
  {
   "cell_type": "code",
   "execution_count": null,
   "id": "designing-manual",
   "metadata": {},
   "outputs": [],
   "source": [
    "# create dataframe\n",
    "train_df = create_dataframe(train_data, include_features, aa_dict)\n",
    "test_df = create_dataframe(test_data, include_features, aa_dict)"
   ]
  },
  {
   "cell_type": "code",
   "execution_count": null,
   "id": "suited-forest",
   "metadata": {},
   "outputs": [],
   "source": [
    "# convert feature dtype\n",
    "X_train = object_to_category(train_df)\n",
    "X_test = object_to_category(test_df)"
   ]
  },
  {
   "cell_type": "code",
   "execution_count": null,
   "id": "annual-premiere",
   "metadata": {},
   "outputs": [],
   "source": [
    "# ordinal encode categorical features for native categorical support\n",
    "# minmax scale continuous features\n",
    "ordinal_encoder = make_column_transformer(\n",
    "    (OrdinalEncoder(handle_unknown='use_encoded_value', unknown_value=np.nan),\n",
    "     make_column_selector(dtype_include='category')),\n",
    "    remainder=MinMaxScaler())"
   ]
  },
  {
   "cell_type": "code",
   "execution_count": null,
   "id": "divine-rwanda",
   "metadata": {},
   "outputs": [],
   "source": [
    "# specify categorical features for native categorical support\n",
    "categorical_mask = (X_train.dtypes == 'category').to_list()\n",
    "\n",
    "# create model pipeline\n",
    "pipeline = make_pipeline(\n",
    "    ordinal_encoder,\n",
    "    HistGradientBoostingClassifier(random_state=42,\n",
    "                                   max_leaf_nodes=None,\n",
    "                                   max_iter=500,\n",
    "                                   min_samples_leaf=21,\n",
    "                                   categorical_features=categorical_mask))\n",
    "\n",
    "# cross validation\n",
    "scores = cross_val_score(pipeline, X_train, y_train, cv=5, scoring='f1')\n",
    "print('{:.6f} (+/-{:.04f}) - F1 5-fold cross validation'.format(scores.mean(),\n",
    "    scores.std()*2))"
   ]
  },
  {
   "cell_type": "code",
   "execution_count": null,
   "id": "coated-blink",
   "metadata": {},
   "outputs": [],
   "source": [
    "# train full model\n",
    "full_model = pipeline.fit(X_train, y_train)\n",
    "prediction = full_model.predict(X_test)"
   ]
  },
  {
   "cell_type": "code",
   "execution_count": null,
   "id": "fourth-strain",
   "metadata": {},
   "outputs": [],
   "source": [
    "# create submission file\n",
    "submission = pd.DataFrame({'status': prediction})\n",
    "filename = 'submission.csv'\n",
    "submission.to_csv(os.path.join('.', filename), index=False, header=False)"
   ]
  }
 ],
 "metadata": {
  "kernelspec": {
   "display_name": "mlintro",
   "language": "python",
   "name": "mlintro"
  },
  "language_info": {
   "codemirror_mode": {
    "name": "ipython",
    "version": 3
   },
   "file_extension": ".py",
   "mimetype": "text/x-python",
   "name": "python",
   "nbconvert_exporter": "python",
   "pygments_lexer": "ipython3",
   "version": "3.7.10"
  }
 },
 "nbformat": 4,
 "nbformat_minor": 5
}
